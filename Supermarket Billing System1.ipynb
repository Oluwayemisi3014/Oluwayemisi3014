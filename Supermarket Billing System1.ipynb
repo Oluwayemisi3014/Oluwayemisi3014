{
 "cells": [
  {
   "cell_type": "code",
   "execution_count": 4,
   "id": "9ce944d4-d613-4795-8ab6-ae6fbd837758",
   "metadata": {},
   "outputs": [
    {
     "name": "stdout",
     "output_type": "stream",
     "text": [
      "\u001b[1m*** Anna's Supermarket Billing System ***\u001b[0m\n"
     ]
    },
    {
     "name": "stdin",
     "output_type": "stream",
     "text": [
      "Enter item name (or 'exit' to end transaction):  rice\n",
      "Enter price for rice: $ 45\n",
      "Enter quantity for rice:  2\n",
      "Enter item name (or 'exit' to end transaction):  beans\n",
      "Enter price for beans: $ 35\n",
      "Enter quantity for beans:  2\n",
      "Enter item name (or 'exit' to end transaction):  plantain\n",
      "Enter price for plantain: $ 10\n",
      "Enter quantity for plantain:  3\n",
      "Enter item name (or 'exit' to end transaction):  knorr\n",
      "Enter price for knorr: $ 20\n",
      "Enter quantity for knorr:  1\n",
      "Enter item name (or 'exit' to end transaction):  knorr beef\n",
      "Enter price for knorr beef: $ 21\n",
      "Enter quantity for knorr beef:  1\n",
      "Enter item name (or 'exit' to end transaction):  exit\n"
     ]
    },
    {
     "name": "stdout",
     "output_type": "stream",
     "text": [
      "\n",
      " \u001b[1m*** Itemized Receipt ***\u001b[0m\n",
      "\u001b[1mItem                 Price      Qty   Total     \u001b[0m\n",
      "---------------------------------------------\n",
      "Rice                 $45.00     2     $90.00\n",
      "Beans                $35.00     2     $70.00\n",
      "Plantain             $10.00     3     $30.00\n",
      "Knorr                $20.00     1     $20.00\n",
      "Knorr Beef           $21.00     1     $21.00\n",
      "---------------------------------------------\n",
      "\u001b[1mSubtotal:                             $231.00\u001b[0m\n",
      "\u001b[1mDiscount (10%):                       -$23.10\u001b[0m\n",
      "\u001b[1mFinal Total:                          $207.90\u001b[0m\n",
      "\n",
      "\u001b[1m*** Thanks for your patronage! ***\u001b[0m\n"
     ]
    }
   ],
   "source": [
    "items = []   # creates lists of items, price and quantity as user inputs them\n",
    "subtotal = 0\n",
    "\n",
    "# ANSI escape code for starting bold text\n",
    "bold = \"\\033[1m\"\n",
    "# ANSI code for resetting text formatting (ending bold, colour etc)\n",
    "end =  \"\\033[0m\"\n",
    "\n",
    "print(f\"{bold}*** Anna's Supermarket Billing System ***{end}\")\n",
    "while True:\n",
    "\n",
    "    item_name = input(\"Enter item name (or 'exit' to end transaction): \").strip()\n",
    "        # strip() removes any whitespace in case user add space before item\n",
    "    if item_name.lower() == 'exit':\n",
    "        break # this closes the program and prints receipt meaning customer is done.\n",
    "\n",
    "    try: # this is used to prevent error from the user incase wrong input is given\n",
    "        item_price = float(input(f\"Enter price for {item_name}: $\"))\n",
    "        item_quantity = int(input(f\"Enter quantity for {item_name}: \"))\n",
    "\n",
    "        if item_price <= 0 or item_quantity <= 0:\n",
    "            print(\"Price and quantity must be positive. Please re-enter.\")\n",
    "            continue # if the input is <= 0, the program returns back to the beginning.\n",
    "\n",
    "        items.append({'name': item_name.title(), 'price': item_price, 'quantity': item_quantity}) # creates dictionary\n",
    "        subtotal += item_price * item_quantity # this operator continues to add up for each item inputted\n",
    "    except ValueError:\n",
    "        print(\"Invalid input. Please enter a valid number for price and quantity.\")\n",
    "\n",
    "discount_percentage = 0\n",
    "if subtotal >= 100:\n",
    "    discount_percentage = 10  # 10% discount for orders over $100\n",
    "elif subtotal >= 50:\n",
    "    discount_percentage = 5  # 5% discount for orders over $50\n",
    "\n",
    "discount_amount = (subtotal * discount_percentage) / 100\n",
    "final_total = subtotal - discount_amount\n",
    "\n",
    "print(f\"\\n {bold}*** Itemized Receipt ***{end}\")\n",
    "print(f\"{bold}{'Item':<20} {'Price':<10} {'Qty':<5} {'Total':<10}{end}\")\n",
    "print(\"-\" * 45)\n",
    "for item in items:\n",
    "    item_total = item['price'] * item['quantity']\n",
    "    print(f\"{item['name']:<20} ${item['price']:<9.2f} {item['quantity']:<5} ${item_total:.2f}\")\n",
    "print(\"-\" * 45)\n",
    "print(f\"{bold}{'Subtotal:':<37} ${subtotal:.2f}{end}\")\n",
    "if discount_amount > 0: # this is only executed if there is discount\n",
    "    print(f\"{bold}{f'Discount ({discount_percentage}%):':<37} -${discount_amount:.2f}{end}\")\n",
    "print(f\"{bold}{'Final Total:':<37} ${final_total:.2f}{end}\")\n",
    "print(f\"\\n{bold}*** Thanks for your patronage! ***{end}\")"
   ]
  },
  {
   "cell_type": "code",
   "execution_count": null,
   "id": "f889e5ef-8b6d-4443-9e1d-d6fb64be4df8",
   "metadata": {},
   "outputs": [],
   "source": []
  },
  {
   "cell_type": "code",
   "execution_count": null,
   "id": "9ade1bfe-ec7a-4993-a0e4-ac381c577df4",
   "metadata": {},
   "outputs": [],
   "source": []
  }
 ],
 "metadata": {
  "kernelspec": {
   "display_name": "Python 3 (ipykernel)",
   "language": "python",
   "name": "python3"
  },
  "language_info": {
   "codemirror_mode": {
    "name": "ipython",
    "version": 3
   },
   "file_extension": ".py",
   "mimetype": "text/x-python",
   "name": "python",
   "nbconvert_exporter": "python",
   "pygments_lexer": "ipython3",
   "version": "3.13.7"
  }
 },
 "nbformat": 4,
 "nbformat_minor": 5
}
